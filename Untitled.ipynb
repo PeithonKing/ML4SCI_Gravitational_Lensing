{
 "cells": [
  {
   "cell_type": "code",
   "execution_count": 2,
   "id": "4f6c8fff",
   "metadata": {},
   "outputs": [],
   "source": [
    "import numpy as np\n",
    "import matplotlib.pyplot as plt\n",
    "import os\n",
    "from PIL import Image as im"
   ]
  },
  {
   "cell_type": "code",
   "execution_count": 9,
   "id": "37eab911",
   "metadata": {},
   "outputs": [
    {
     "name": "stdout",
     "output_type": "stream",
     "text": [
      "The shape of the data(1, 150, 150)\n"
     ]
    },
    {
     "data": {
      "image/png": "[encoded data removed]",
      "text/plain": [
       "<PIL.Image.Image image mode=L size=150x150 at 0x1A889A02640>"
      ]
     },
     "execution_count": 9,
     "metadata": {},
     "output_type": "execute_result"
    },
    {
     "data": {
      "text/plain": [
       "<Figure size 1152x3600 with 0 Axes>"
      ]
     },
     "metadata": {},
     "output_type": "display_data"
    }
   ],
   "source": [
    "lmm=[None]*100\n",
    "lmmi=[None]*100\n",
    "kappa=[None]*100\n",
    "base=r\"D:\\Data_set\\dataset\\val\\sphere\"\n",
    "loc=r\"D:\\Data_set\\datasetjpg\\trai\\sphere\"\n",
    "data=np.load(r\"D:\\Data_set\\dataset\\train\\vort\\9999.npy\")\n",
    "print(\"The shape of the data\"+str(data.shape))\n",
    "data=np.reshape(data,(150,150))\n",
    "data=data*255\n",
    "data=data.astype(np.uint8)\n",
    "data=im.fromarray(data)\n",
    "plt.figure(figsize=(16,50))\n",
    "for i in range(1,10001):\n",
    "    fl=str(i)+\".npy\"\n",
    "    lmm=np.reshape(np.load(os.path.join(base,fl)),(150,150,))\n",
    "    lmm=lmm*255\n",
    "    lmm=lmm.astype(np.uint8)\n",
    "    lmmi=im.fromarray(lmm)\n",
    "    lmmi.save(os.path.join(loc,(str(i)+\".jpg\")))\n",
    "#lmmi=str(1)+\".jpg\"\n",
    "#data.save(os.path.join(loc,lmmi))\n",
    "\n",
    "data"
   ]
  }
 ],
 "metadata": {
  "kernelspec": {
   "display_name": "Python 3",
   "language": "python",
   "name": "python3"
  },
  "language_info": {
   "codemirror_mode": {
    "name": "ipython",
    "version": 3
   },
   "file_extension": ".py",
   "mimetype": "text/x-python",
   "name": "python",
   "nbconvert_exporter": "python",
   "pygments_lexer": "ipython3",
   "version": "3.8.8"
  }
 },
 "nbformat": 4,
 "nbformat_minor": 5
}
